{
 "cells": [
  {
   "cell_type": "code",
   "execution_count": 1,
   "id": "507e9637-80b5-4259-932c-10cdb6ed7871",
   "metadata": {
    "tags": []
   },
   "outputs": [],
   "source": [
    "import anndata"
   ]
  },
  {
   "cell_type": "code",
   "execution_count": 2,
   "id": "74063316-ab2c-453d-bba8-4046b934f702",
   "metadata": {
    "tags": []
   },
   "outputs": [
    {
     "name": "stderr",
     "output_type": "stream",
     "text": [
      "/blue/square.t/miniconda3/envs/scvelo_033_scrublet/lib/python3.10/site-packages/anndata/_core/anndata.py:1899: UserWarning: Variable names are not unique. To make them unique, call `.var_names_make_unique`.\n",
      "  utils.warn_names_duplicates(\"var\")\n",
      "/blue/square.t/miniconda3/envs/scvelo_033_scrublet/lib/python3.10/site-packages/anndata/_core/anndata.py:1899: UserWarning: Variable names are not unique. To make them unique, call `.var_names_make_unique`.\n",
      "  utils.warn_names_duplicates(\"var\")\n",
      "/blue/square.t/miniconda3/envs/scvelo_033_scrublet/lib/python3.10/site-packages/anndata/_core/anndata.py:1899: UserWarning: Variable names are not unique. To make them unique, call `.var_names_make_unique`.\n",
      "  utils.warn_names_duplicates(\"var\")\n",
      "/blue/square.t/miniconda3/envs/scvelo_033_scrublet/lib/python3.10/site-packages/anndata/_core/anndata.py:1899: UserWarning: Variable names are not unique. To make them unique, call `.var_names_make_unique`.\n",
      "  utils.warn_names_duplicates(\"var\")\n",
      "/blue/square.t/miniconda3/envs/scvelo_033_scrublet/lib/python3.10/site-packages/anndata/_core/anndata.py:1899: UserWarning: Variable names are not unique. To make them unique, call `.var_names_make_unique`.\n",
      "  utils.warn_names_duplicates(\"var\")\n"
     ]
    }
   ],
   "source": [
    "m5_adata_copy = anndata.read_loom(\"/blue/square.t/peter.huynh/outs/velocyto_outputs/minus345_2_v5e_062522_forced6k_possorted_genome_CEA3D.loom\")\n",
    "m4_adata_copy = anndata.read_loom(\"/blue/square.t/peter.huynh/outs/velocyto_outputs/minus4_v5e_062522_forced6k_possorted_genome_bam_GWFTD.loom\")\n",
    "p5_1_adata_copy = anndata.read_loom(\"/blue/square.t/peter.huynh/outs/velocyto_outputs/plus345_1_v5e_062522_forced6k_possorted_genome_bam_RL5DI.loom\")\n",
    "p5_2_adata_copy = anndata.read_loom(\"/blue/square.t/peter.huynh/outs/velocyto_outputs/plus345_2_v5e_062522_forced6k_possorted_genome_bam_6EON9.loom\")\n",
    "p4_adata_copy = anndata.read_loom(\"/blue/square.t/peter.huynh/outs/velocyto_outputs/plus4_v5e_062522_forced6k_possorted_genome_bam_CRXMJ.loom\")"
   ]
  },
  {
   "cell_type": "code",
   "execution_count": 3,
   "id": "77188ff7-ea3e-4dc5-9c31-eb505a0e3500",
   "metadata": {
    "tags": []
   },
   "outputs": [
    {
     "name": "stderr",
     "output_type": "stream",
     "text": [
      "/blue/square.t/miniconda3/envs/scvelo_033_scrublet/lib/python3.10/site-packages/anndata/_core/anndata.py:1899: UserWarning: Variable names are not unique. To make them unique, call `.var_names_make_unique`.\n",
      "  utils.warn_names_duplicates(\"var\")\n",
      "/blue/square.t/miniconda3/envs/scvelo_033_scrublet/lib/python3.10/site-packages/anndata/_core/anndata.py:1899: UserWarning: Variable names are not unique. To make them unique, call `.var_names_make_unique`.\n",
      "  utils.warn_names_duplicates(\"var\")\n",
      "/blue/square.t/miniconda3/envs/scvelo_033_scrublet/lib/python3.10/site-packages/anndata/_core/anndata.py:1899: UserWarning: Variable names are not unique. To make them unique, call `.var_names_make_unique`.\n",
      "  utils.warn_names_duplicates(\"var\")\n",
      "/blue/square.t/miniconda3/envs/scvelo_033_scrublet/lib/python3.10/site-packages/anndata/_core/anndata.py:1899: UserWarning: Variable names are not unique. To make them unique, call `.var_names_make_unique`.\n",
      "  utils.warn_names_duplicates(\"var\")\n",
      "/blue/square.t/miniconda3/envs/scvelo_033_scrublet/lib/python3.10/site-packages/anndata/_core/anndata.py:1899: UserWarning: Variable names are not unique. To make them unique, call `.var_names_make_unique`.\n",
      "  utils.warn_names_duplicates(\"var\")\n"
     ]
    }
   ],
   "source": [
    "#safe checkpoint\n",
    "m5_adata=m5_adata_copy.copy()\n",
    "m4_adata=m4_adata_copy.copy()\n",
    "p5_1_adata=p5_1_adata_copy.copy()\n",
    "p5_2_adata=p5_2_adata_copy.copy()\n",
    "p4_adata=p4_adata_copy.copy()"
   ]
  },
  {
   "cell_type": "code",
   "execution_count": 4,
   "id": "76e2d498-db55-4f06-aa87-1a1ee23ffa88",
   "metadata": {
    "tags": []
   },
   "outputs": [],
   "source": [
    "#add sample data\n",
    "m5_adata.obs[\"sample\"] = \"minus345\"\n",
    "m4_adata.obs[\"sample\"] = \"minus4\"\n",
    "p5_1_adata.obs[\"sample\"] = \"plus345_1\"\n",
    "p5_2_adata.obs[\"sample\"] = \"plus345_2\"\n",
    "p4_adata.obs[\"sample\"] = \"plus4\""
   ]
  },
  {
   "cell_type": "code",
   "execution_count": 5,
   "id": "54d53c32-a8d5-4b69-952b-b04e6891cfd8",
   "metadata": {
    "tags": []
   },
   "outputs": [],
   "source": [
    "m5_adata.var_names_make_unique()\n",
    "m4_adata.var_names_make_unique()\n",
    "p5_1_adata.var_names_make_unique()\n",
    "p5_2_adata.var_names_make_unique()\n",
    "p4_adata.var_names_make_unique()"
   ]
  },
  {
   "cell_type": "code",
   "execution_count": 7,
   "id": "2de478a0-7e8c-43c5-8847-460731ddc36f",
   "metadata": {
    "tags": []
   },
   "outputs": [],
   "source": [
    "#save this to raw\n",
    "m5_adata.write(\"/blue/square.t/peter.huynh/jupyter/combined_samples_scvelo/data/raw/m5_adata.h5ad\")\n",
    "m4_adata.write(\"/blue/square.t/peter.huynh/jupyter/combined_samples_scvelo/data/raw/m4_adata.h5ad\")\n",
    "p5_1_adata.write(\"/blue/square.t/peter.huynh/jupyter/combined_samples_scvelo/data/raw/p5_1_adata.h5ad\")\n",
    "p5_2_adata.write(\"/blue/square.t/peter.huynh/jupyter/combined_samples_scvelo/data/raw/p5_2_adata.h5ad\")\n",
    "p4_adata.write(\"/blue/square.t/peter.huynh/jupyter/combined_samples_scvelo/data/raw/p4_adata.h5ad\")"
   ]
  },
  {
   "cell_type": "code",
   "execution_count": null,
   "id": "2f7f4149-fe29-4580-b826-03c21a2aea33",
   "metadata": {},
   "outputs": [],
   "source": []
  }
 ],
 "metadata": {
  "kernelspec": {
   "display_name": "scvelo_033_scrublet",
   "language": "python",
   "name": "scvelo_033_scrublet"
  },
  "language_info": {
   "codemirror_mode": {
    "name": "ipython",
    "version": 3
   },
   "file_extension": ".py",
   "mimetype": "text/x-python",
   "name": "python",
   "nbconvert_exporter": "python",
   "pygments_lexer": "ipython3",
   "version": "3.10.18"
  }
 },
 "nbformat": 4,
 "nbformat_minor": 5
}
