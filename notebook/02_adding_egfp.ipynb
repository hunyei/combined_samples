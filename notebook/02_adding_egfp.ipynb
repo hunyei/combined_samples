{
 "cells": [
  {
   "cell_type": "code",
   "execution_count": 21,
   "id": "fb5dbf5e-6a83-421d-88cc-a09b396271f6",
   "metadata": {
    "tags": []
   },
   "outputs": [],
   "source": [
    "import anndata as ad\n",
    "import h5py\n",
    "from scipy import sparse\n",
    "import pandas as pd\n",
    "import scanpy as sc"
   ]
  },
  {
   "cell_type": "code",
   "execution_count": 7,
   "id": "ed09c700-4951-430e-a803-eea855e3e236",
   "metadata": {
    "tags": []
   },
   "outputs": [],
   "source": [
    "m5_adata = ad.read_h5ad(\"/blue/square.t/peter.huynh/jupyter/combined_samples_scvelo/data/raw/m5_adata.h5ad\")\n",
    "m4_adata = ad.read_h5ad(\"/blue/square.t/peter.huynh/jupyter/combined_samples_scvelo/data/raw/m4_adata.h5ad\")\n",
    "p5_1_adata = ad.read_h5ad(\"/blue/square.t/peter.huynh/jupyter/combined_samples_scvelo/data/raw/p5_1_adata.h5ad\")\n",
    "p5_2_adata = ad.read_h5ad(\"/blue/square.t/peter.huynh/jupyter/combined_samples_scvelo/data/raw/p5_2_adata.h5ad\")\n",
    "p4_adata = ad.read_h5ad(\"/blue/square.t/peter.huynh/jupyter/combined_samples_scvelo/data/raw/p4_adata.h5ad\")"
   ]
  },
  {
   "cell_type": "code",
   "execution_count": 12,
   "id": "88c8b12b-85ed-489a-a69c-8daf27318a14",
   "metadata": {
    "tags": []
   },
   "outputs": [],
   "source": [
    "#manually add egfp\n",
    "f = h5py.File('/blue/square.t/peter.huynh/cellranger/cellranger_outs/cellranger_minus345_2_v5e_062522_forced6k/outs/minus345_filtered_feature_bc_matrix.h5', 'r')\n",
    "\n",
    "barcodes = [b.decode() for b in f['matrix']['barcodes'][:]]\n",
    "genes = [g.decode() for g in f['matrix']['features']['name'][:]] \n",
    "\n",
    "egfp_idx = genes.index(\"egfp\") #a single number\n",
    "\n",
    "data = f['matrix']['data'][:]\n",
    "indices = f['matrix']['indices'][:]\n",
    "indptr = f['matrix']['indptr'][:]\n",
    "shape = f['matrix']['shape'][:]  \n",
    "X = sparse.csc_matrix((data, indices, indptr), shape=shape)\n",
    "\n",
    "egfp_vector = X[egfp_idx, :].toarray().flatten() #(row,column)\n",
    "\n",
    "formatted_barcodes = [\"minus345_2_v5e_062522_forced6k_possorted_genome_CEA3D:\" + bc.replace(\"-1\", \"x\") for bc in barcodes] \n",
    "egfp_series = pd.Series(egfp_vector, index=formatted_barcodes)\n",
    "egfp_vector_aligned = egfp_series.reindex(m5_adata.obs_names).fillna(0).astype(int).values\n",
    "egfp_var_idx = m5_adata.var_names.get_loc(\"egfp\")\n",
    "m5_adata.X = m5_adata.X.tolil()\n",
    "m5_adata.X[:, egfp_var_idx] = egfp_vector_aligned.reshape(-1, 1)\n",
    "m5_adata.X = m5_adata.X.tocsr()"
   ]
  },
  {
   "cell_type": "code",
   "execution_count": 13,
   "id": "ae8a5889-9a0b-48d5-a6a1-d18c83d62a7e",
   "metadata": {
    "tags": []
   },
   "outputs": [],
   "source": [
    "f = h5py.File('/blue/square.t/peter.huynh/cellranger/cellranger_outs/cellranger_minus4_v5e_062522_forced6k/outs/minus_4_filtered_feature_bc_matrix.h5', 'r')\n",
    "\n",
    "barcodes = [b.decode() for b in f['matrix']['barcodes'][:]]\n",
    "genes = [g.decode() for g in f['matrix']['features']['name'][:]] \n",
    "\n",
    "egfp_idx = genes.index(\"egfp\") #a single number\n",
    "\n",
    "data = f['matrix']['data'][:]\n",
    "indices = f['matrix']['indices'][:]\n",
    "indptr = f['matrix']['indptr'][:]\n",
    "shape = f['matrix']['shape'][:]  \n",
    "X = sparse.csc_matrix((data, indices, indptr), shape=shape)\n",
    "\n",
    "egfp_vector = X[egfp_idx, :].toarray().flatten()#(row,column)\n",
    "formatted_barcodes = [\"minus4_v5e_062522_forced6k_possorted_genome_bam_GWFTD:\" + bc.replace(\"-1\", \"x\") for bc in barcodes] \n",
    "egfp_series = pd.Series(egfp_vector, index=formatted_barcodes)\n",
    "egfp_vector_aligned = egfp_series.reindex(m4_adata.obs_names).fillna(0).astype(int).values\n",
    "egfp_var_idx = m4_adata.var_names.get_loc(\"egfp\")\n",
    "m4_adata.X = m4_adata.X.tolil()\n",
    "m4_adata.X[:, egfp_var_idx] = egfp_vector_aligned.reshape(-1, 1)\n",
    "m4_adata.X = m4_adata.X.tocsr()"
   ]
  },
  {
   "cell_type": "code",
   "execution_count": 14,
   "id": "cfe3dcdf-a82e-46e9-833b-b5ef7849fced",
   "metadata": {
    "tags": []
   },
   "outputs": [],
   "source": [
    "f = h5py.File('/blue/square.t/peter.huynh/cellranger/cellranger_outs/cellranger_plus345_2_v5e_062522_forced6k/outs/filtered_feature_bc_matrix.h5', 'r')\n",
    "\n",
    "barcodes = [b.decode() for b in f['matrix']['barcodes'][:]]\n",
    "genes = [g.decode() for g in f['matrix']['features']['name'][:]] \n",
    "\n",
    "egfp_idx = genes.index(\"egfp\") #a single number\n",
    "\n",
    "data = f['matrix']['data'][:]\n",
    "indices = f['matrix']['indices'][:]\n",
    "indptr = f['matrix']['indptr'][:]\n",
    "shape = f['matrix']['shape'][:]  \n",
    "X = sparse.csc_matrix((data, indices, indptr), shape=shape)\n",
    "\n",
    "egfp_vector = X[egfp_idx, :].toarray().flatten()#(row,column)\n",
    "formatted_barcodes = [\"plus345_2_v5e_062522_forced6k_possorted_genome_bam_6EON9:\" + bc.replace(\"-1\", \"x\") for bc in barcodes] \n",
    "egfp_series = pd.Series(egfp_vector, index=formatted_barcodes)\n",
    "egfp_vector_aligned = egfp_series.reindex(p5_2_adata.obs_names).fillna(0).astype(int).values\n",
    "egfp_var_idx = p5_2_adata.var_names.get_loc(\"egfp\")\n",
    "p5_2_adata.X = p5_2_adata.X.tolil()\n",
    "p5_2_adata.X[:, egfp_var_idx] = egfp_vector_aligned.reshape(-1, 1)\n",
    "p5_2_adata.X = p5_2_adata.X.tocsr()"
   ]
  },
  {
   "cell_type": "code",
   "execution_count": 15,
   "id": "67c4becf-3656-40f0-bc4f-20f7147cdab8",
   "metadata": {
    "tags": []
   },
   "outputs": [],
   "source": [
    "f = h5py.File('/blue/square.t/peter.huynh/cellranger/cellranger_outs/cellranger_plus345_1_v5e_062522_forced6k/outs/plus345_filtered_feature_bc_matrix.h5', 'r')\n",
    "\n",
    "barcodes = [b.decode() for b in f['matrix']['barcodes'][:]]\n",
    "genes = [g.decode() for g in f['matrix']['features']['name'][:]] \n",
    "\n",
    "egfp_idx = genes.index(\"egfp\") #a single number\n",
    "\n",
    "data = f['matrix']['data'][:]\n",
    "indices = f['matrix']['indices'][:]\n",
    "indptr = f['matrix']['indptr'][:]\n",
    "shape = f['matrix']['shape'][:]  \n",
    "X = sparse.csc_matrix((data, indices, indptr), shape=shape)\n",
    "\n",
    "egfp_vector = X[egfp_idx, :].toarray().flatten()#(row,column)\n",
    "formatted_barcodes = [\"plus345_1_v5e_062522_forced6k_possorted_genome_bam_RL5DI:\" + bc.replace(\"-1\", \"x\") for bc in barcodes] \n",
    "egfp_series = pd.Series(egfp_vector, index=formatted_barcodes)\n",
    "egfp_vector_aligned = egfp_series.reindex(p5_1_adata.obs_names).fillna(0).astype(int).values\n",
    "egfp_var_idx = p5_1_adata.var_names.get_loc(\"egfp\")\n",
    "p5_1_adata.X = p5_1_adata.X.tolil()\n",
    "p5_1_adata.X[:, egfp_var_idx] = egfp_vector_aligned.reshape(-1, 1)\n",
    "p5_1_adata.X = p5_1_adata.X.tocsr()"
   ]
  },
  {
   "cell_type": "code",
   "execution_count": 16,
   "id": "e5f5c25a-36b5-48a6-985e-283d3a14e62d",
   "metadata": {
    "tags": []
   },
   "outputs": [],
   "source": [
    "f = h5py.File('/blue/square.t/peter.huynh/cellranger/cellranger_outs/cellranger_plus4_v5e_062522_forced6k/outs/plus4_filtered_feature_bc_matrix.h5', 'r')\n",
    "\n",
    "barcodes = [b.decode() for b in f['matrix']['barcodes'][:]]\n",
    "genes = [g.decode() for g in f['matrix']['features']['name'][:]] \n",
    "\n",
    "egfp_idx = genes.index(\"egfp\") #a single number\n",
    "\n",
    "data = f['matrix']['data'][:]\n",
    "indices = f['matrix']['indices'][:]\n",
    "indptr = f['matrix']['indptr'][:]\n",
    "shape = f['matrix']['shape'][:]  \n",
    "X = sparse.csc_matrix((data, indices, indptr), shape=shape)\n",
    "\n",
    "egfp_vector = X[egfp_idx, :].toarray().flatten()#(row,column)\n",
    "formatted_barcodes = [\"plus4_v5e_062522_forced6k_possorted_genome_bam_CRXMJ:\" + bc.replace(\"-1\", \"x\") for bc in barcodes] \n",
    "egfp_series = pd.Series(egfp_vector, index=formatted_barcodes)\n",
    "egfp_vector_aligned = egfp_series.reindex(p4_adata.obs_names).fillna(0).astype(int).values\n",
    "egfp_var_idx = p4_adata.var_names.get_loc(\"egfp\")\n",
    "p4_adata.X = p4_adata.X.tolil()\n",
    "p4_adata.X[:, egfp_var_idx] = egfp_vector_aligned.reshape(-1, 1)\n",
    "p4_adata.X = p4_adata.X.tocsr()"
   ]
  },
  {
   "cell_type": "code",
   "execution_count": 17,
   "id": "de6b624c-cbd4-4ba7-b3ee-d903fbe6f8c3",
   "metadata": {
    "tags": []
   },
   "outputs": [],
   "source": [
    "##save point\n",
    "m5_adata_egfp=m5_adata.copy()\n",
    "m4_adata_egfp=m4_adata.copy()\n",
    "p5_1_adata_egfp=p5_1_adata.copy()\n",
    "p5_2_adata_egfp=p5_2_adata.copy()\n",
    "p4_adata_egfp=p4_adata.copy()"
   ]
  },
  {
   "cell_type": "code",
   "execution_count": 22,
   "id": "7b100ec1-4ab0-4e7d-9569-135b0c6714fc",
   "metadata": {
    "tags": []
   },
   "outputs": [],
   "source": [
    "adatas = {\n",
    "    'm5': m5_adata_egfp,\n",
    "    'm4': m4_adata_egfp,\n",
    "    'p5_1': p5_1_adata_egfp,\n",
    "    'p5_2': p5_2_adata_egfp,\n",
    "    'p4': p4_adata_egfp\n",
    "}\n",
    "\n",
    "for name, adata in adatas.items():\n",
    "    adata.var_names_make_unique()\n",
    "    sc.pp.calculate_qc_metrics(adata, inplace=True)"
   ]
  },
  {
   "cell_type": "code",
   "execution_count": 23,
   "id": "cd4436e6-6604-4529-8426-4a79536d35fb",
   "metadata": {
    "tags": []
   },
   "outputs": [],
   "source": [
    "#save this to processed\n",
    "m5_adata_egfp.write(\"/blue/square.t/peter.huynh/jupyter/combined_samples_scvelo/data/processed/m5_adata_egfp.h5ad\")\n",
    "m4_adata_egfp.write(\"/blue/square.t/peter.huynh/jupyter/combined_samples_scvelo/data/processed/m4_adata_egfp.h5ad\")\n",
    "p5_1_adata_egfp.write(\"/blue/square.t/peter.huynh/jupyter/combined_samples_scvelo/data/processed/p5_1_adata_egfp.h5ad\")\n",
    "p5_2_adata_egfp.write(\"/blue/square.t/peter.huynh/jupyter/combined_samples_scvelo/data/processed/p5_2_adata_egfp.h5ad\")\n",
    "p4_adata_egfp.write(\"/blue/square.t/peter.huynh/jupyter/combined_samples_scvelo/data/processed/p4_adata_egfp.h5ad\")"
   ]
  },
  {
   "cell_type": "code",
   "execution_count": null,
   "id": "5f038e17-9ce1-4beb-8366-66dfa30fbf95",
   "metadata": {},
   "outputs": [],
   "source": []
  }
 ],
 "metadata": {
  "kernelspec": {
   "display_name": "scvelo_033_scrublet",
   "language": "python",
   "name": "scvelo_033_scrublet"
  },
  "language_info": {
   "codemirror_mode": {
    "name": "ipython",
    "version": 3
   },
   "file_extension": ".py",
   "mimetype": "text/x-python",
   "name": "python",
   "nbconvert_exporter": "python",
   "pygments_lexer": "ipython3",
   "version": "3.10.18"
  }
 },
 "nbformat": 4,
 "nbformat_minor": 5
}
